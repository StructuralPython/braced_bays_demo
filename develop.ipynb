{
 "cells": [
  {
   "cell_type": "code",
   "execution_count": 111,
   "metadata": {},
   "outputs": [],
   "source": [
    "import eng_module.columns as columns\n",
    "import eng_module.sections_db as db\n",
    "import eng_module.load_factors as lf\n",
    "\n",
    "import math\n",
    "\n",
    "combos = {\n",
    "    \"LC1\": {\"D\": 1.4},\n",
    "    \"LC2\": {\"D\": 1.2, \"L\": 1.6},\n",
    "    \"LC3\": {\"D\": 1.2, \"L\": 1.0, \"W\": 1.0}\n",
    "}"
   ]
  },
  {
   "cell_type": "code",
   "execution_count": 112,
   "metadata": {},
   "outputs": [],
   "source": [
    "def calculate_moi_min(p_factored: float, h: float, E: float, k: float, phi: float) -> float:\n",
    "    \"\"\"\n",
    "    Returns the min second moment of area required for an axial member\n",
    "    to resist p_factored based on the theoretical euler buckling load\n",
    "    P factored is in units of pounds, H is in units of feet\n",
    "    \"\"\"\n",
    "    return (p_factored/1000 * (h*12)**2) / (k * E * math.pi**2) / phi"
   ]
  },
  {
   "cell_type": "markdown",
   "metadata": {},
   "source": [
    "Load HSS Table"
   ]
  },
  {
   "cell_type": "code",
   "execution_count": 113,
   "metadata": {},
   "outputs": [],
   "source": [
    "hss_df = db.aisc_hss_sections(si_units=False)\n",
    "\n",
    "sq_hss_df = hss_df.loc[hss_df['Ix'] == hss_df[\"Iy\"]].reset_index(drop=True)\n",
    "# sq_hss_df"
   ]
  },
  {
   "cell_type": "markdown",
   "metadata": {},
   "source": [
    "# Inputs"
   ]
  },
  {
   "cell_type": "code",
   "execution_count": 114,
   "metadata": {},
   "outputs": [],
   "source": [
    "h_bay = 10 #ft\n",
    "w_bay = 15 #ft\n",
    "P_wind = 10000 # lb\n",
    "\n",
    "w_dead = 500 #plf\n",
    "w_live = 1000 # plf\n"
   ]
  },
  {
   "cell_type": "markdown",
   "metadata": {},
   "source": [
    "# Loading Configuration\n",
    "Calculated"
   ]
  },
  {
   "cell_type": "code",
   "execution_count": 120,
   "metadata": {},
   "outputs": [
    {
     "name": "stdout",
     "output_type": "stream",
     "text": [
      "Pf_col=18666.666666666668\n",
      "Pf_brace=18027.75637731995\n",
      "l_brace=18.027756377319946\n",
      "Mf_beam=61875.0\n"
     ]
    }
   ],
   "source": [
    "\n",
    "angle = math.atan(h_bay / w_bay)\n",
    "l_brace = math.sqrt(h_bay**2 + w_bay**2)\n",
    "\n",
    "brace_load = {\n",
    "    \"W_load\": P_wind / math.sin(angle)\n",
    "}\n",
    "column_load = {\n",
    "    \"W_load\": P_wind * h_bay / w_bay,\n",
    "    \"D_load\": w_dead * w_bay / 2,\n",
    "    \"L_load\": w_live * w_bay / 2,\n",
    "}\n",
    "beam_load = {\n",
    "    \"D_load\": w_dead * w_bay**2/8,\n",
    "    \"L_load\": w_live * w_bay**2/8,\n",
    "}\n",
    "\n",
    "Pf_col = lf.max_factored_load(column_load, combos)\n",
    "print(f\"{Pf_col=}\")\n",
    "Pf_brace = lf.max_factored_load(brace_load, combos)\n",
    "Mf_beam = lf.max_factored_load(beam_load, combos)\n",
    "print(f\"{Pf_brace=}\")\n",
    "print(f\"{l_brace=}\")\n",
    "print(f\"{Mf_beam=}\")"
   ]
  },
  {
   "cell_type": "markdown",
   "metadata": {},
   "source": [
    "### Calculate required MoI"
   ]
  },
  {
   "cell_type": "code",
   "execution_count": 116,
   "metadata": {},
   "outputs": [],
   "source": [
    "I_min_column = calculate_moi_min(Pf_col,h_bay,29000,1,0.85)\n",
    "I_min_brace = calculate_moi_min(Pf_brace,l_brace,29000,1,0.85)"
   ]
  },
  {
   "cell_type": "markdown",
   "metadata": {},
   "source": [
    "### Determine Appropriate Section from Database"
   ]
  },
  {
   "cell_type": "code",
   "execution_count": 117,
   "metadata": {},
   "outputs": [
    {
     "name": "stdout",
     "output_type": "stream",
     "text": [
      "I_min_brace=3.467934327045745 | I_min_column=1.104873596878718\n",
      "col_section='HSS3X3X1/8' | brace_section='HSS4X4X1/8'\n"
     ]
    }
   ],
   "source": [
    "sub_df_col = db.section_filter(sq_hss_df, \"ge\", Ix=I_min_column)\n",
    "col_section = db.sort_by_weight(sub_df_col).head(1)[\"Section\"].squeeze()\n",
    "\n",
    "sub_df_brace = db.section_filter(sq_hss_df, \"ge\", Ix=I_min_brace)\n",
    "brace_section = db.sort_by_weight(sub_df_brace).head(1)[\"Section\"].squeeze()\n",
    "\n",
    "print(f\"{I_min_brace=} | {I_min_column=}\")\n",
    "print(f\"{col_section=} | {brace_section=}\")"
   ]
  },
  {
   "cell_type": "markdown",
   "metadata": {},
   "source": [
    "### Calculate Member Weight"
   ]
  },
  {
   "cell_type": "code",
   "execution_count": 118,
   "metadata": {},
   "outputs": [
    {
     "name": "stdout",
     "output_type": "stream",
     "text": [
      "col_weight=95.0 lbs | brace_weight=116.45930619748685 lbs | beam_weight=225 lbs\n"
     ]
    }
   ],
   "source": [
    "col_li_w = sq_hss_df.loc[sq_hss_df['Section'] == col_section]['W'].squeeze()\n",
    "brace_li_w =  sq_hss_df.loc[sq_hss_df['Section'] == brace_section]['W'].squeeze()\n",
    "\n",
    "col_weight = col_li_w * h_bay * 2\n",
    "brace_weight = brace_li_w * l_brace\n",
    "beam_weight = w_bay **2\n",
    "\n",
    "print(f\"{col_weight=} lbs | {brace_weight=} lbs | {beam_weight=} lbs\")\n"
   ]
  }
 ],
 "metadata": {
  "kernelspec": {
   "display_name": "Python 3",
   "language": "python",
   "name": "python3"
  },
  "language_info": {
   "codemirror_mode": {
    "name": "ipython",
    "version": 3
   },
   "file_extension": ".py",
   "mimetype": "text/x-python",
   "name": "python",
   "nbconvert_exporter": "python",
   "pygments_lexer": "ipython3",
   "version": "3.10.13"
  }
 },
 "nbformat": 4,
 "nbformat_minor": 2
}
